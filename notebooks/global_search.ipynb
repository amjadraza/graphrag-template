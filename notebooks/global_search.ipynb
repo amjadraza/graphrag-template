{
 "cells": [
  {
   "cell_type": "code",
   "execution_count": 1,
   "metadata": {},
   "outputs": [
    {
     "data": {
      "text/plain": [
       "'\\nCopyright (c) Microsoft Corporation.\\n'"
      ]
     },
     "execution_count": 1,
     "metadata": {},
     "output_type": "execute_result"
    }
   ],
   "source": [
    "# Copyright (c) 2024 Microsoft Corporation.\n",
    "# Licensed under the MIT License."
   ]
  },
  {
   "cell_type": "code",
   "execution_count": 1,
   "metadata": {},
   "outputs": [
    {
     "name": "stderr",
     "output_type": "stream",
     "text": [
      "/home/maraza/.cache/pypoetry/virtualenvs/graphrag-template-KN6o0p_r-py3.10/lib/python3.10/site-packages/tqdm/auto.py:21: TqdmWarning: IProgress not found. Please update jupyter and ipywidgets. See https://ipywidgets.readthedocs.io/en/stable/user_install.html\n",
      "  from .autonotebook import tqdm as notebook_tqdm\n"
     ]
    }
   ],
   "source": [
    "import os\n",
    "\n",
    "import pandas as pd\n",
    "import tiktoken\n",
    "\n",
    "from graphrag.query.indexer_adapters import read_indexer_entities, read_indexer_reports\n",
    "from graphrag.query.llm.oai.chat_openai import ChatOpenAI\n",
    "from graphrag.query.llm.oai.typing import OpenaiApiType\n",
    "from graphrag.query.structured_search.global_search.community_context import (\n",
    "    GlobalCommunityContext,\n",
    ")\n",
    "from graphrag.query.structured_search.global_search.search import GlobalSearch"
   ]
  },
  {
   "cell_type": "code",
   "execution_count": 2,
   "metadata": {},
   "outputs": [
    {
     "data": {
      "text/plain": [
       "True"
      ]
     },
     "execution_count": 2,
     "metadata": {},
     "output_type": "execute_result"
    }
   ],
   "source": [
    "from dotenv import load_dotenv\n",
    "load_dotenv()"
   ]
  },
  {
   "cell_type": "markdown",
   "metadata": {},
   "source": [
    "## Global Search example\n",
    "\n",
    "Global search method generates answers by searching over all AI-generated community reports in a map-reduce fashion. This is a resource-intensive method, but often gives good responses for questions that require an understanding of the dataset as a whole (e.g. What are the most significant values of the herbs mentioned in this notebook?)."
   ]
  },
  {
   "cell_type": "markdown",
   "metadata": {},
   "source": [
    "### LLM setup"
   ]
  },
  {
   "cell_type": "code",
   "execution_count": 3,
   "metadata": {},
   "outputs": [],
   "source": [
    "api_key = os.environ[\"GRAPHRAG_API_KEY\"]\n",
    "llm_model = os.environ[\"GRAPHRAG_LLM_MODEL\"]\n",
    "\n",
    "llm = ChatOpenAI(\n",
    "    api_key=api_key,\n",
    "    model=llm_model,\n",
    "    api_type=OpenaiApiType.OpenAI,  # OpenaiApiType.OpenAI or OpenaiApiType.AzureOpenAI\n",
    "    max_retries=20,\n",
    ")\n",
    "\n",
    "token_encoder = tiktoken.get_encoding(\"cl100k_base\")"
   ]
  },
  {
   "cell_type": "markdown",
   "metadata": {},
   "source": [
    "### Load community reports as context for global search\n",
    "\n",
    "- Load all community reports in the `create_final_community_reports` table from the ire-indexing engine, to be used as context data for global search.\n",
    "- Load entities from the `create_final_nodes` and `create_final_entities` tables from the ire-indexing engine, to be used for calculating community weights for context ranking. Note that this is optional (if no entities are provided, we will not calculate community weights and only use the `rank` attribute in the community reports table for context ranking)"
   ]
  },
  {
   "cell_type": "code",
   "execution_count": 5,
   "metadata": {},
   "outputs": [],
   "source": [
    "# parquet files generated from indexing pipeline\n",
    "INPUT_DIR = \"../inputs/operation dulce\"\n",
    "COMMUNITY_REPORT_TABLE = \"create_final_community_reports\"\n",
    "ENTITY_TABLE = \"create_final_nodes\"\n",
    "ENTITY_EMBEDDING_TABLE = \"create_final_entities\"\n",
    "\n",
    "# community level in the Leiden community hierarchy from which we will load the community reports\n",
    "# higher value means we use reports from more fine-grained communities (at the cost of higher computation cost)\n",
    "COMMUNITY_LEVEL = 1"
   ]
  },
  {
   "cell_type": "code",
   "execution_count": 6,
   "metadata": {},
   "outputs": [
    {
     "name": "stdout",
     "output_type": "stream",
     "text": [
      "Report records: 6\n"
     ]
    },
    {
     "data": {
      "text/html": [
       "<div>\n",
       "<style scoped>\n",
       "    .dataframe tbody tr th:only-of-type {\n",
       "        vertical-align: middle;\n",
       "    }\n",
       "\n",
       "    .dataframe tbody tr th {\n",
       "        vertical-align: top;\n",
       "    }\n",
       "\n",
       "    .dataframe thead th {\n",
       "        text-align: right;\n",
       "    }\n",
       "</style>\n",
       "<table border=\"1\" class=\"dataframe\">\n",
       "  <thead>\n",
       "    <tr style=\"text-align: right;\">\n",
       "      <th></th>\n",
       "      <th>community</th>\n",
       "      <th>full_content</th>\n",
       "      <th>level</th>\n",
       "      <th>rank</th>\n",
       "      <th>title</th>\n",
       "      <th>rank_explanation</th>\n",
       "      <th>summary</th>\n",
       "      <th>findings</th>\n",
       "      <th>full_content_json</th>\n",
       "      <th>id</th>\n",
       "    </tr>\n",
       "  </thead>\n",
       "  <tbody>\n",
       "    <tr>\n",
       "      <th>0</th>\n",
       "      <td>4</td>\n",
       "      <td># Dulce Base and the Paranormal Military Squad...</td>\n",
       "      <td>1</td>\n",
       "      <td>8.5</td>\n",
       "      <td>Dulce Base and the Paranormal Military Squad: ...</td>\n",
       "      <td>The impact severity rating is high due to the ...</td>\n",
       "      <td>The community is centered around Dulce Base, a...</td>\n",
       "      <td>[{'explanation': 'Dulce Base is the primary lo...</td>\n",
       "      <td>{\\n    \"title\": \"Dulce Base and the Paranormal...</td>\n",
       "      <td>6f8ba6b6-506e-46c1-83ce-982d59622554</td>\n",
       "    </tr>\n",
       "    <tr>\n",
       "      <th>1</th>\n",
       "      <td>5</td>\n",
       "      <td># Sam Rivera and the Paranormal Military Squad...</td>\n",
       "      <td>1</td>\n",
       "      <td>7.5</td>\n",
       "      <td>Sam Rivera and the Paranormal Military Squad a...</td>\n",
       "      <td>The impact severity rating is high due to the ...</td>\n",
       "      <td>The community is centered around Sam Rivera, a...</td>\n",
       "      <td>[{'explanation': 'Sam Rivera is recognized for...</td>\n",
       "      <td>{\\n    \"title\": \"Sam Rivera and the Paranormal...</td>\n",
       "      <td>418f4536-d673-4212-8a7c-ca1aac547d0f</td>\n",
       "    </tr>\n",
       "    <tr>\n",
       "      <th>2</th>\n",
       "      <td>0</td>\n",
       "      <td># Dulce Base and the Paranormal Military Squad...</td>\n",
       "      <td>0</td>\n",
       "      <td>8.5</td>\n",
       "      <td>Dulce Base and the Paranormal Military Squad Team</td>\n",
       "      <td>The impact severity rating is high due to the ...</td>\n",
       "      <td>Dulce Base serves as the operational hub for t...</td>\n",
       "      <td>[{'explanation': 'The Paranormal Military Squa...</td>\n",
       "      <td>{\\n    \"title\": \"Dulce Base and the Paranormal...</td>\n",
       "      <td>251df57e-fd49-49a7-b262-ccaff95d7a51</td>\n",
       "    </tr>\n",
       "    <tr>\n",
       "      <th>3</th>\n",
       "      <td>1</td>\n",
       "      <td># Dulce Base and the Paranormal Military Squad...</td>\n",
       "      <td>0</td>\n",
       "      <td>8.5</td>\n",
       "      <td>Dulce Base and the Paranormal Military Squad: ...</td>\n",
       "      <td>The impact severity rating is high due to the ...</td>\n",
       "      <td>The community is centered around Dulce Base, a...</td>\n",
       "      <td>[{'explanation': 'Sam Rivera is recognized for...</td>\n",
       "      <td>{\\n    \"title\": \"Dulce Base and the Paranormal...</td>\n",
       "      <td>6e536385-8056-4a82-8670-c0ccaf007fb4</td>\n",
       "    </tr>\n",
       "    <tr>\n",
       "      <th>4</th>\n",
       "      <td>2</td>\n",
       "      <td># Dulce Base: Extraterrestrial Research and Co...</td>\n",
       "      <td>0</td>\n",
       "      <td>8.5</td>\n",
       "      <td>Dulce Base: Extraterrestrial Research and Comm...</td>\n",
       "      <td>The impact severity rating is high due to the ...</td>\n",
       "      <td>Dulce Base is a highly classified facility in ...</td>\n",
       "      <td>[{'explanation': 'Dulce Base is the epicenter ...</td>\n",
       "      <td>{\\n    \"title\": \"Dulce Base: Extraterrestrial ...</td>\n",
       "      <td>660c8fba-b65f-4fcd-9c98-203600cf1981</td>\n",
       "    </tr>\n",
       "  </tbody>\n",
       "</table>\n",
       "</div>"
      ],
      "text/plain": [
       "  community                                       full_content  level  rank  \\\n",
       "0         4  # Dulce Base and the Paranormal Military Squad...      1   8.5   \n",
       "1         5  # Sam Rivera and the Paranormal Military Squad...      1   7.5   \n",
       "2         0  # Dulce Base and the Paranormal Military Squad...      0   8.5   \n",
       "3         1  # Dulce Base and the Paranormal Military Squad...      0   8.5   \n",
       "4         2  # Dulce Base: Extraterrestrial Research and Co...      0   8.5   \n",
       "\n",
       "                                               title  \\\n",
       "0  Dulce Base and the Paranormal Military Squad: ...   \n",
       "1  Sam Rivera and the Paranormal Military Squad a...   \n",
       "2  Dulce Base and the Paranormal Military Squad Team   \n",
       "3  Dulce Base and the Paranormal Military Squad: ...   \n",
       "4  Dulce Base: Extraterrestrial Research and Comm...   \n",
       "\n",
       "                                    rank_explanation  \\\n",
       "0  The impact severity rating is high due to the ...   \n",
       "1  The impact severity rating is high due to the ...   \n",
       "2  The impact severity rating is high due to the ...   \n",
       "3  The impact severity rating is high due to the ...   \n",
       "4  The impact severity rating is high due to the ...   \n",
       "\n",
       "                                             summary  \\\n",
       "0  The community is centered around Dulce Base, a...   \n",
       "1  The community is centered around Sam Rivera, a...   \n",
       "2  Dulce Base serves as the operational hub for t...   \n",
       "3  The community is centered around Dulce Base, a...   \n",
       "4  Dulce Base is a highly classified facility in ...   \n",
       "\n",
       "                                            findings  \\\n",
       "0  [{'explanation': 'Dulce Base is the primary lo...   \n",
       "1  [{'explanation': 'Sam Rivera is recognized for...   \n",
       "2  [{'explanation': 'The Paranormal Military Squa...   \n",
       "3  [{'explanation': 'Sam Rivera is recognized for...   \n",
       "4  [{'explanation': 'Dulce Base is the epicenter ...   \n",
       "\n",
       "                                   full_content_json  \\\n",
       "0  {\\n    \"title\": \"Dulce Base and the Paranormal...   \n",
       "1  {\\n    \"title\": \"Sam Rivera and the Paranormal...   \n",
       "2  {\\n    \"title\": \"Dulce Base and the Paranormal...   \n",
       "3  {\\n    \"title\": \"Dulce Base and the Paranormal...   \n",
       "4  {\\n    \"title\": \"Dulce Base: Extraterrestrial ...   \n",
       "\n",
       "                                     id  \n",
       "0  6f8ba6b6-506e-46c1-83ce-982d59622554  \n",
       "1  418f4536-d673-4212-8a7c-ca1aac547d0f  \n",
       "2  251df57e-fd49-49a7-b262-ccaff95d7a51  \n",
       "3  6e536385-8056-4a82-8670-c0ccaf007fb4  \n",
       "4  660c8fba-b65f-4fcd-9c98-203600cf1981  "
      ]
     },
     "execution_count": 6,
     "metadata": {},
     "output_type": "execute_result"
    }
   ],
   "source": [
    "entity_df = pd.read_parquet(f\"{INPUT_DIR}/{ENTITY_TABLE}.parquet\")\n",
    "report_df = pd.read_parquet(f\"{INPUT_DIR}/{COMMUNITY_REPORT_TABLE}.parquet\")\n",
    "entity_embedding_df = pd.read_parquet(f\"{INPUT_DIR}/{ENTITY_EMBEDDING_TABLE}.parquet\")\n",
    "\n",
    "reports = read_indexer_reports(report_df, entity_df, COMMUNITY_LEVEL)\n",
    "entities = read_indexer_entities(entity_df, entity_embedding_df, COMMUNITY_LEVEL)\n",
    "print(f\"Report records: {len(report_df)}\")\n",
    "report_df.head()"
   ]
  },
  {
   "cell_type": "markdown",
   "metadata": {},
   "source": [
    "#### Build global context based on community reports"
   ]
  },
  {
   "cell_type": "code",
   "execution_count": 7,
   "metadata": {},
   "outputs": [],
   "source": [
    "context_builder = GlobalCommunityContext(\n",
    "    community_reports=reports,\n",
    "    entities=entities,  # default to None if you don't want to use community weights for ranking\n",
    "    token_encoder=token_encoder,\n",
    ")"
   ]
  },
  {
   "cell_type": "markdown",
   "metadata": {},
   "source": [
    "#### Perform global search"
   ]
  },
  {
   "cell_type": "code",
   "execution_count": 8,
   "metadata": {},
   "outputs": [],
   "source": [
    "context_builder_params = {\n",
    "    \"use_community_summary\": False,  # False means using full community reports. True means using community short summaries.\n",
    "    \"shuffle_data\": True,\n",
    "    \"include_community_rank\": True,\n",
    "    \"min_community_rank\": 0,\n",
    "    \"community_rank_name\": \"rank\",\n",
    "    \"include_community_weight\": True,\n",
    "    \"community_weight_name\": \"occurrence weight\",\n",
    "    \"normalize_community_weight\": True,\n",
    "    \"max_tokens\": 12_000,  # change this based on the token limit you have on your model (if you are using a model with 8k limit, a good setting could be 5000)\n",
    "    \"context_name\": \"Reports\",\n",
    "}\n",
    "\n",
    "map_llm_params = {\n",
    "    \"max_tokens\": 1000,\n",
    "    \"temperature\": 0.0,\n",
    "    \"response_format\": {\"type\": \"json_object\"},\n",
    "}\n",
    "\n",
    "reduce_llm_params = {\n",
    "    \"max_tokens\": 2000,  # change this based on the token limit you have on your model (if you are using a model with 8k limit, a good setting could be 1000-1500)\n",
    "    \"temperature\": 0.0,\n",
    "}"
   ]
  },
  {
   "cell_type": "code",
   "execution_count": 9,
   "metadata": {},
   "outputs": [],
   "source": [
    "search_engine = GlobalSearch(\n",
    "    llm=llm,\n",
    "    context_builder=context_builder,\n",
    "    token_encoder=token_encoder,\n",
    "    max_data_tokens=12_000,  # change this based on the token limit you have on your model (if you are using a model with 8k limit, a good setting could be 5000)\n",
    "    map_llm_params=map_llm_params,\n",
    "    reduce_llm_params=reduce_llm_params,\n",
    "    allow_general_knowledge=False,  # set this to True will add instruction to encourage the LLM to incorporate general knowledge in the response, which may increase hallucinations, but could be useful in some use cases.\n",
    "    json_mode=True,  # set this to False if your LLM model does not support JSON mode.\n",
    "    context_builder_params=context_builder_params,\n",
    "    concurrent_coroutines=32,\n",
    "    response_type=\"multiple paragraphs\",  # free form text describing the response type and format, can be anything, e.g. prioritized list, single paragraph, multiple paragraphs, multiple-page report\n",
    ")"
   ]
  },
  {
   "cell_type": "code",
   "execution_count": 10,
   "metadata": {},
   "outputs": [
    {
     "name": "stdout",
     "output_type": "stream",
     "text": [
      "### Story Analysis Summary:\n",
      "\n",
      "The dataset focuses on the Paranormal Military Squad's mission to establish contact with extraterrestrial intelligence, marking a significant event as humanity's potential first encounter with alien beings. The conflict primarily revolves around the high-stakes operations, decryption of alien signals, and the anticipation of engaging in dialogue with alien entities. This emphasizes the secretive and sensitive nature of the squad's activities [Data: Reports (4, 5, 2, 3, 0)].\n",
      "\n",
      "### Key Characters:\n",
      "\n",
      "#### Protagonists:\n",
      "The key figures within the story are Taylor Cruz, Dr. Jordan Hayes, Alex Mercer, and Sam Rivera. These individuals are pivotal members of the Paranormal Military Squad, leading the mission, deciphering alien signals, and preparing for potential contact with extraterrestrial beings. Their collaborative efforts are central to driving the narrative forward and influencing the squad's interactions with alien intelligence [Data: Reports (4, 5, 2, 3, 0)].\n",
      "\n",
      "#### Antagonists:\n",
      "The dataset does not explicitly define any antagonists in the story. The primary focus remains on the internal dynamics of the Paranormal Military Squad, their interactions with extraterrestrial signals, and the implications of a possible first contact with alien beings. The conflict arises more from the challenges inherent in the mission rather than from a traditional protagonist-antagonist dynamic [Data: Reports (4, 5, 2, 3, 0)].\n",
      "\n",
      "In summary, the major conflict in the story stems from the Paranormal Military Squad's mission to establish contact with extraterrestrial intelligence, with key characters like Taylor Cruz, Dr. Jordan Hayes, Alex Mercer, and Sam Rivera driving the narrative forward through their collaborative efforts. The absence of explicitly defined antagonists shifts the focus towards the challenges faced by the squad in deciphering alien signals and preparing for potential extraterrestrial contact.\n"
     ]
    }
   ],
   "source": [
    "result = await search_engine.asearch(\n",
    "    \"What is the major conflict in this story and who are the protagonist and antagonist?\"\n",
    ")\n",
    "\n",
    "print(result.response)"
   ]
  },
  {
   "cell_type": "code",
   "execution_count": 11,
   "metadata": {},
   "outputs": [
    {
     "data": {
      "text/html": [
       "<div>\n",
       "<style scoped>\n",
       "    .dataframe tbody tr th:only-of-type {\n",
       "        vertical-align: middle;\n",
       "    }\n",
       "\n",
       "    .dataframe tbody tr th {\n",
       "        vertical-align: top;\n",
       "    }\n",
       "\n",
       "    .dataframe thead th {\n",
       "        text-align: right;\n",
       "    }\n",
       "</style>\n",
       "<table border=\"1\" class=\"dataframe\">\n",
       "  <thead>\n",
       "    <tr style=\"text-align: right;\">\n",
       "      <th></th>\n",
       "      <th>id</th>\n",
       "      <th>title</th>\n",
       "      <th>occurrence weight</th>\n",
       "      <th>content</th>\n",
       "      <th>rank</th>\n",
       "    </tr>\n",
       "  </thead>\n",
       "  <tbody>\n",
       "    <tr>\n",
       "      <th>0</th>\n",
       "      <td>4</td>\n",
       "      <td>Dulce Base and the Paranormal Military Squad: ...</td>\n",
       "      <td>1.000000</td>\n",
       "      <td># Dulce Base and the Paranormal Military Squad...</td>\n",
       "      <td>8.5</td>\n",
       "    </tr>\n",
       "    <tr>\n",
       "      <th>1</th>\n",
       "      <td>5</td>\n",
       "      <td>Sam Rivera and the Paranormal Military Squad a...</td>\n",
       "      <td>1.000000</td>\n",
       "      <td># Sam Rivera and the Paranormal Military Squad...</td>\n",
       "      <td>7.5</td>\n",
       "    </tr>\n",
       "    <tr>\n",
       "      <th>2</th>\n",
       "      <td>2</td>\n",
       "      <td>Dulce Base: Extraterrestrial Research and Comm...</td>\n",
       "      <td>0.750000</td>\n",
       "      <td># Dulce Base: Extraterrestrial Research and Co...</td>\n",
       "      <td>8.5</td>\n",
       "    </tr>\n",
       "    <tr>\n",
       "      <th>3</th>\n",
       "      <td>3</td>\n",
       "      <td>Operation: Dulce and the Paranormal Military S...</td>\n",
       "      <td>0.583333</td>\n",
       "      <td># Operation: Dulce and the Paranormal Military...</td>\n",
       "      <td>8.5</td>\n",
       "    </tr>\n",
       "    <tr>\n",
       "      <th>4</th>\n",
       "      <td>0</td>\n",
       "      <td>Dulce Base and the Paranormal Military Squad Team</td>\n",
       "      <td>0.416667</td>\n",
       "      <td># Dulce Base and the Paranormal Military Squad...</td>\n",
       "      <td>8.5</td>\n",
       "    </tr>\n",
       "  </tbody>\n",
       "</table>\n",
       "</div>"
      ],
      "text/plain": [
       "  id                                              title  occurrence weight  \\\n",
       "0  4  Dulce Base and the Paranormal Military Squad: ...           1.000000   \n",
       "1  5  Sam Rivera and the Paranormal Military Squad a...           1.000000   \n",
       "2  2  Dulce Base: Extraterrestrial Research and Comm...           0.750000   \n",
       "3  3  Operation: Dulce and the Paranormal Military S...           0.583333   \n",
       "4  0  Dulce Base and the Paranormal Military Squad Team           0.416667   \n",
       "\n",
       "                                             content  rank  \n",
       "0  # Dulce Base and the Paranormal Military Squad...   8.5  \n",
       "1  # Sam Rivera and the Paranormal Military Squad...   7.5  \n",
       "2  # Dulce Base: Extraterrestrial Research and Co...   8.5  \n",
       "3  # Operation: Dulce and the Paranormal Military...   8.5  \n",
       "4  # Dulce Base and the Paranormal Military Squad...   8.5  "
      ]
     },
     "execution_count": 11,
     "metadata": {},
     "output_type": "execute_result"
    }
   ],
   "source": [
    "# inspect the data used to build the context for the LLM responses\n",
    "result.context_data[\"reports\"]"
   ]
  },
  {
   "cell_type": "code",
   "execution_count": 12,
   "metadata": {},
   "outputs": [
    {
     "name": "stdout",
     "output_type": "stream",
     "text": [
      "LLM calls: 2. LLM tokens: 5309\n"
     ]
    }
   ],
   "source": [
    "# inspect number of LLM calls and tokens\n",
    "print(f\"LLM calls: {result.llm_calls}. LLM tokens: {result.prompt_tokens}\")"
   ]
  },
  {
   "cell_type": "code",
   "execution_count": null,
   "metadata": {},
   "outputs": [],
   "source": []
  }
 ],
 "metadata": {
  "kernelspec": {
   "display_name": "Python 3 (ipykernel)",
   "language": "python",
   "name": "python3"
  },
  "language_info": {
   "codemirror_mode": {
    "name": "ipython",
    "version": 3
   },
   "file_extension": ".py",
   "mimetype": "text/x-python",
   "name": "python",
   "nbconvert_exporter": "python",
   "pygments_lexer": "ipython3",
   "version": "3.10.12"
  }
 },
 "nbformat": 4,
 "nbformat_minor": 4
}
